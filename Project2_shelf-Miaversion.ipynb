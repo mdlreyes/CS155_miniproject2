{
 "cells": [
  {
   "cell_type": "code",
   "execution_count": 41,
   "metadata": {},
   "outputs": [],
   "source": [
    "import numpy as np\n",
    "import pandas as pd\n",
    "import matplotlib.pyplot as plt\n",
    "#from prob2utils_skeleton import train_model, get_err\n",
    "from surprise import AlgoBase\n",
    "from surprise import Reader\n",
    "from surprise import Dataset\n",
    "from surprise.model_selection import cross_validate\n",
    "from surprise import SVD\n",
    "from surprise import accuracy\n",
    "from surprise.model_selection import train_test_split"
   ]
  },
  {
   "cell_type": "markdown",
   "metadata": {},
   "source": [
    "## Import data"
   ]
  },
  {
   "cell_type": "code",
   "execution_count": 42,
   "metadata": {},
   "outputs": [],
   "source": [
    "movies = pd.read_table('data/movies.txt', header=None, names=[\"Movie Id\", \"Movie Title\", \"Unknown\", \"Action\", \"Adventure\", \"Animation\", \"Childrens\", \"Comedy\", \"Crime\", \"Documentary\",\"Drama\", \"Fantasy\", \"Film-Noir\", \"Horror\", \"Musical\", \"Mystery\", \"Romance\", \"Sci-Fi\", \"Thriller\", \"War\", \"Western\"])\n",
    "np.save(\"movie\", movies)\n",
    "\n",
    "data = pd.read_table('data/data.txt', header=None, names=[\"user\", \"movie\", \"rating\"])\n",
    "np.save(\"data\", data)\n",
    "\n",
    "train = pd.read_table('data/train.txt',  header=None, names=[\"user\", \"movie\", \"rating\"])\n",
    "np.save(\"train\", train)\n",
    "\n",
    "test = pd.read_table('data/test.txt', header=None, names=[\"user\", \"movie\", \"rating\"])\n",
    "np.save(\"test\", test)"
   ]
  },
  {
   "cell_type": "code",
   "execution_count": 43,
   "metadata": {},
   "outputs": [],
   "source": [
    "reader = Reader(rating_scale=(1, 5))\n",
    "#traindata = Dataset.load_from_df(train, reader=reader)\n",
    "#trainset = traindata.build_full_trainset()\n",
    "ydata = Dataset.load_from_df(data, reader=reader)\n",
    "fullset = ydata.build_full_trainset()"
   ]
  },
  {
   "cell_type": "markdown",
   "metadata": {},
   "source": [
    "## Instantiate SVD"
   ]
  },
  {
   "cell_type": "code",
   "execution_count": 51,
   "metadata": {},
   "outputs": [],
   "source": [
    "filterer = SVD()"
   ]
  },
  {
   "cell_type": "markdown",
   "metadata": {},
   "source": [
    "## Do cross-validation"
   ]
  },
  {
   "cell_type": "code",
   "execution_count": 52,
   "metadata": {},
   "outputs": [
    {
     "name": "stdout",
     "output_type": "stream",
     "text": [
      "Evaluating RMSE of algorithm SVD on 5 split(s).\n",
      "\n",
      "                  Fold 1  Fold 2  Fold 3  Fold 4  Fold 5  Mean    Std     \n",
      "RMSE (testset)    0.9313  0.9365  0.9317  0.9409  0.9408  0.9362  0.0042  \n",
      "Fit time          8.03    9.63    10.38   9.03    7.14    8.84    1.15    \n",
      "Test time         0.47    0.64    0.35    0.21    0.20    0.37    0.17    \n"
     ]
    },
    {
     "data": {
      "text/plain": [
       "{u'fit_time': (8.026655912399292,\n",
       "  9.62839412689209,\n",
       "  10.377238988876343,\n",
       "  9.03115701675415,\n",
       "  7.139965057373047),\n",
       " u'test_rmse': array([0.93128872, 0.93654601, 0.93165136, 0.94086391, 0.94079329]),\n",
       " u'test_time': (0.4723508358001709,\n",
       "  0.636134147644043,\n",
       "  0.3485431671142578,\n",
       "  0.2054460048675537,\n",
       "  0.20148110389709473)}"
      ]
     },
     "execution_count": 52,
     "metadata": {},
     "output_type": "execute_result"
    }
   ],
   "source": [
    "cross_validate(filterer, ydata, measures=['RMSE'], cv=5, verbose=True)"
   ]
  },
  {
   "cell_type": "markdown",
   "metadata": {},
   "source": [
    "## Run factorization on full set"
   ]
  },
  {
   "cell_type": "code",
   "execution_count": 44,
   "metadata": {},
   "outputs": [
    {
     "data": {
      "text/plain": [
       "<surprise.prediction_algorithms.matrix_factorization.SVD at 0x10ba45f50>"
      ]
     },
     "execution_count": 44,
     "metadata": {},
     "output_type": "execute_result"
    }
   ],
   "source": [
    "filterer.fit(fullset)"
   ]
  },
  {
   "cell_type": "markdown",
   "metadata": {},
   "source": [
    "## Calculate training and test errors. Lambda = 0.02 ."
   ]
  },
  {
   "cell_type": "code",
   "execution_count": 45,
   "metadata": {},
   "outputs": [
    {
     "name": "stdout",
     "output_type": "stream",
     "text": [
      "((943, 100), (943,), (1682, 100), (1682,))\n",
      "10000\n"
     ]
    }
   ],
   "source": [
    "u = filterer.pu\n",
    "v = filterer.qi\n",
    "ubias = filterer.bu\n",
    "vbias = filterer.bi\n",
    "print(u.shape, ubias.shape, v.shape, vbias.shape)\n",
    "print(len(testset))"
   ]
  },
  {
   "cell_type": "code",
   "execution_count": 46,
   "metadata": {},
   "outputs": [],
   "source": [
    "def get_err(U, V, BU, BV, Y, reg=0.0):\n",
    "    \"\"\"\n",
    "    Takes as input a matrix Y of triples (i, j, Y_ij) where i is the index of a user,\n",
    "    j is the index of a movie, and Y_ij is user i's rating of movie j and\n",
    "    user/movie matrices U and V.\n",
    "\n",
    "    Returns the mean regularized squared-error of predictions made by\n",
    "    estimating Y_{ij} as the dot product of the ith row of U and the jth column of V^T.\n",
    "    \"\"\"\n",
    "    ratings = np.zeros(len(Y))\n",
    "    for n in np.arange(len(Y)):\n",
    "        ratings[n] = Y[n][2]\n",
    "    mu = np.mean(ratings)\n",
    "    err = 0.0    \n",
    "    \n",
    "    err += 0.5*reg*(np.sum(U**2) + np.sum(V**2) + np.sum(BU**2) + np.sum(BV**2))\n",
    "    for n in np.arange(len(Y)):\n",
    "        i = Y[n][0] - 1 #Columns start at 1, not zero.\n",
    "        j = Y[n][1] - 1 #Columns start at 1, not zero.\n",
    "        #print(U.shape, V.shape)\n",
    "        err += 0.5*((ratings[n] - mu) - (np.dot(U[i,:],V.T[:,j]) + BU[i] + BV[j]))**2\n",
    "\n",
    "    return err"
   ]
  },
  {
   "cell_type": "code",
   "execution_count": 47,
   "metadata": {},
   "outputs": [],
   "source": [
    "testerr = get_err(u, v, ubias, vbias, testset, reg=0.0)"
   ]
  },
  {
   "cell_type": "code",
   "execution_count": 48,
   "metadata": {},
   "outputs": [],
   "source": [
    "np.savetxt('U_shelf.txt', u)\n",
    "np.savetxt('V_shelf.txt', v)\n",
    "np.savetxt('Ubias_shelf.txt', ubias)\n",
    "np.savetxt('Vbias_shelf.txt', vbias)"
   ]
  },
  {
   "cell_type": "code",
   "execution_count": 49,
   "metadata": {},
   "outputs": [
    {
     "name": "stdout",
     "output_type": "stream",
     "text": [
      "8550.170417778732\n"
     ]
    }
   ],
   "source": [
    "print testerr"
   ]
  },
  {
   "cell_type": "code",
   "execution_count": 50,
   "metadata": {},
   "outputs": [
    {
     "name": "stdout",
     "output_type": "stream",
     "text": [
      "(943, 100) (1682, 100)\n"
     ]
    }
   ],
   "source": [
    "print u.shape, v.shape"
   ]
  },
  {
   "cell_type": "code",
   "execution_count": null,
   "metadata": {},
   "outputs": [],
   "source": []
  }
 ],
 "metadata": {
  "kernelspec": {
   "display_name": "Python 2",
   "language": "python",
   "name": "python2"
  },
  "language_info": {
   "codemirror_mode": {
    "name": "ipython",
    "version": 2
   },
   "file_extension": ".py",
   "mimetype": "text/x-python",
   "name": "python",
   "nbconvert_exporter": "python",
   "pygments_lexer": "ipython2",
   "version": "2.7.13"
  }
 },
 "nbformat": 4,
 "nbformat_minor": 2
}
