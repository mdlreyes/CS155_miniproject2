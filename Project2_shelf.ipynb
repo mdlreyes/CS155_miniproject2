{
 "cells": [
  {
   "cell_type": "code",
<<<<<<< HEAD
   "execution_count": 2,
   "metadata": {
    "collapsed": true
   },
=======
   "execution_count": 29,
   "metadata": {},
>>>>>>> 080f846bab48258080e7812e68d002d35bb4b2dc
   "outputs": [],
   "source": [
    "import numpy as np\n",
    "import pandas as pd\n",
    "import matplotlib.pyplot as plt\n",
    "#from prob2utils_skeleton import train_model, get_err\n",
    "from surprise import AlgoBase\n",
    "from surprise import Reader\n",
    "from surprise import Dataset\n",
    "from surprise.model_selection import cross_validate\n",
    "from surprise import SVD\n",
    "from surprise import accuracy\n",
    "from surprise.model_selection import train_test_split"
   ]
  },
  {
   "cell_type": "code",
<<<<<<< HEAD
   "execution_count": 3,
   "metadata": {
    "collapsed": false
   },
=======
   "execution_count": 15,
   "metadata": {},
>>>>>>> 080f846bab48258080e7812e68d002d35bb4b2dc
   "outputs": [],
   "source": [
    "movies = pd.read_table('data/movies.txt', header=None, names=[\"Movie Id\", \"Movie Title\", \"Unknown\", \"Action\", \"Adventure\", \"Animation\", \"Childrens\", \"Comedy\", \"Crime\", \"Documentary\",\"Drama\", \"Fantasy\", \"Film-Noir\", \"Horror\", \"Musical\", \"Mystery\", \"Romance\", \"Sci-Fi\", \"Thriller\", \"War\", \"Western\"])\n",
    "np.save(\"movie\", movies)\n",
    "\n",
    "data = pd.read_table('data/data.txt', header=None, names=[\"user\", \"movie\", \"rating\"])\n",
    "np.save(\"data\", data)\n",
    "\n",
    "train = pd.read_table('data/train.txt',  header=None, names=[\"user\", \"movie\", \"rating\"])\n",
    "np.save(\"train\", train)\n",
    "\n",
    "test = pd.read_table('data/test.txt', header=None, names=[\"user\", \"movie\", \"rating\"])\n",
    "np.save(\"test\", test)"
   ]
  },
  {
   "cell_type": "code",
<<<<<<< HEAD
   "execution_count": 18,
   "metadata": {
    "collapsed": false
   },
   "outputs": [],
   "source": [
    "reader = Reader(rating_scale=(1, 5))\n",
    "trainsetprime = Dataset.load_from_df(train, reader=reader)\n",
    "trainset, blanktrain = train_test_split(trainsetprime, test_size=0.000001)\n",
    "\n",
    "testsetprime = Dataset.load_from_df(test, reader=reader)\n",
    "testset, blanktest = train_test_split(testsetprime, test_size=0.000001)\n",
    "\n",
    "#ydata = Dataset.load_from_df(data, reader=reader)\n",
    "#trainset, testset = train_test_split(ydata, test_size=0.1)"
=======
   "execution_count": 40,
   "metadata": {},
   "outputs": [],
   "source": [
    "reader = Reader(rating_scale=(1, 5))\n",
    "#traindata = Dataset.load_from_df(train, reader=reader)\n",
    "#trainset = traindata.build_full_trainset()\n",
    "ydata = Dataset.load_from_df(data, reader=reader)\n",
    "fullset = ydata.build_full_trainset()"
>>>>>>> 080f846bab48258080e7812e68d002d35bb4b2dc
   ]
  },
  {
   "cell_type": "code",
<<<<<<< HEAD
   "execution_count": 19,
   "metadata": {
    "collapsed": false
   },
   "outputs": [
    {
     "data": {
      "text/plain": [
       "<surprise.prediction_algorithms.matrix_factorization.SVD at 0x1085c5208>"
      ]
     },
     "execution_count": 19,
     "metadata": {},
     "output_type": "execute_result"
    }
   ],
=======
   "execution_count": 36,
   "metadata": {},
   "outputs": [],
>>>>>>> 080f846bab48258080e7812e68d002d35bb4b2dc
   "source": [
    "filterer = SVD()\n",
    "filterer.fit(fullset)"
   ]
  },
  {
   "cell_type": "markdown",
   "metadata": {},
   "source": [
    "## Calculate training and test errors. Lambda = 0.02 ."
   ]
  },
  {
   "cell_type": "code",
<<<<<<< HEAD
   "execution_count": 20,
   "metadata": {
    "collapsed": false
   },
=======
   "execution_count": 38,
   "metadata": {},
>>>>>>> 080f846bab48258080e7812e68d002d35bb4b2dc
   "outputs": [
    {
     "name": "stdout",
     "output_type": "stream",
     "text": [
<<<<<<< HEAD
      "(943, 100) (943,) (1668, 100) (1668,)\n"
=======
      "((943, 100), (943,), (1682, 100), (1682,))\n",
      "10000\n"
>>>>>>> 080f846bab48258080e7812e68d002d35bb4b2dc
     ]
    }
   ],
   "source": [
    "u = filterer.pu\n",
    "v = filterer.qi\n",
    "ubias = filterer.bu\n",
    "vbias = filterer.bi\n",
    "print(u.shape, ubias.shape, v.shape, vbias.shape)\n",
    "#print(len(testset))"
   ]
  },
  {
   "cell_type": "code",
<<<<<<< HEAD
   "execution_count": 8,
   "metadata": {
    "collapsed": false
   },
=======
   "execution_count": 6,
   "metadata": {},
>>>>>>> 080f846bab48258080e7812e68d002d35bb4b2dc
   "outputs": [],
   "source": [
    "def get_err(U, V, BU, BV, Y, reg=0.0):\n",
    "    \"\"\"\n",
    "    Takes as input a matrix Y of triples (i, j, Y_ij) where i is the index of a user,\n",
    "    j is the index of a movie, and Y_ij is user i's rating of movie j and\n",
    "    user/movie matrices U and V.\n",
    "\n",
    "    Returns the mean regularized squared-error of predictions made by\n",
    "    estimating Y_{ij} as the dot product of the ith row of U and the jth column of V^T.\n",
    "    \"\"\"\n",
    "    ratings = np.zeros(len(Y))\n",
    "    for n in np.arange(len(Y)):\n",
    "        ratings[n] = Y[n][2]\n",
    "    mu = np.mean(ratings)\n",
    "    err = 0.0    \n",
    "    \n",
    "    err += 0.5*reg*(np.sum(U**2) + np.sum(V**2) + np.sum(BU**2) + np.sum(BV**2))\n",
    "    for n in np.arange(len(Y)):\n",
    "        i = Y[n][0] - 1 #Columns start at 1, not zero.\n",
    "        j = Y[n][1] - 1 #Columns start at 1, not zero.\n",
    "        #print(U.shape, V.shape)\n",
    "        err += 0.5*((ratings[n] - mu) - (np.dot(U[i,:],V.T[:,j]) + BU[i] + BV[j]))**2\n",
    "\n",
    "    return err"
   ]
  },
  {
   "cell_type": "code",
<<<<<<< HEAD
   "execution_count": 16,
   "metadata": {
    "collapsed": false
   },
   "outputs": [
    {
     "ename": "TypeError",
     "evalue": "object of type 'Trainset' has no len()",
     "output_type": "error",
     "traceback": [
      "\u001b[0;31m---------------------------------------------------------------------------\u001b[0m",
      "\u001b[0;31mTypeError\u001b[0m                                 Traceback (most recent call last)",
      "\u001b[0;32m<ipython-input-16-d93e1a26ad45>\u001b[0m in \u001b[0;36m<module>\u001b[0;34m()\u001b[0m\n\u001b[0;32m----> 1\u001b[0;31m \u001b[0mtrainerr\u001b[0m \u001b[0;34m=\u001b[0m \u001b[0mget_err\u001b[0m\u001b[0;34m(\u001b[0m\u001b[0mu\u001b[0m\u001b[0;34m,\u001b[0m \u001b[0mv\u001b[0m\u001b[0;34m,\u001b[0m \u001b[0mubias\u001b[0m\u001b[0;34m,\u001b[0m \u001b[0mvbias\u001b[0m\u001b[0;34m,\u001b[0m \u001b[0mtestset\u001b[0m\u001b[0;34m,\u001b[0m \u001b[0mreg\u001b[0m\u001b[0;34m=\u001b[0m\u001b[0;36m0.02\u001b[0m\u001b[0;34m)\u001b[0m\u001b[0;34m\u001b[0m\u001b[0m\n\u001b[0m",
      "\u001b[0;32m<ipython-input-8-76c3ac12046f>\u001b[0m in \u001b[0;36mget_err\u001b[0;34m(U, V, BU, BV, Y, reg)\u001b[0m\n\u001b[1;32m      8\u001b[0m     \u001b[0mestimating\u001b[0m \u001b[0mY_\u001b[0m\u001b[0;34m{\u001b[0m\u001b[0mij\u001b[0m\u001b[0;34m}\u001b[0m \u001b[0;32mas\u001b[0m \u001b[0mthe\u001b[0m \u001b[0mdot\u001b[0m \u001b[0mproduct\u001b[0m \u001b[0mof\u001b[0m \u001b[0mthe\u001b[0m \u001b[0mith\u001b[0m \u001b[0mrow\u001b[0m \u001b[0mof\u001b[0m \u001b[0mU\u001b[0m \u001b[0;32mand\u001b[0m \u001b[0mthe\u001b[0m \u001b[0mjth\u001b[0m \u001b[0mcolumn\u001b[0m \u001b[0mof\u001b[0m \u001b[0mV\u001b[0m\u001b[0;34m^\u001b[0m\u001b[0mT\u001b[0m\u001b[0;34m.\u001b[0m\u001b[0;34m\u001b[0m\u001b[0m\n\u001b[1;32m      9\u001b[0m     \"\"\"\n\u001b[0;32m---> 10\u001b[0;31m     \u001b[0mratings\u001b[0m \u001b[0;34m=\u001b[0m \u001b[0mnp\u001b[0m\u001b[0;34m.\u001b[0m\u001b[0mzeros\u001b[0m\u001b[0;34m(\u001b[0m\u001b[0mlen\u001b[0m\u001b[0;34m(\u001b[0m\u001b[0mY\u001b[0m\u001b[0;34m)\u001b[0m\u001b[0;34m)\u001b[0m\u001b[0;34m\u001b[0m\u001b[0m\n\u001b[0m\u001b[1;32m     11\u001b[0m     \u001b[0;32mfor\u001b[0m \u001b[0mn\u001b[0m \u001b[0;32min\u001b[0m \u001b[0mnp\u001b[0m\u001b[0;34m.\u001b[0m\u001b[0marange\u001b[0m\u001b[0;34m(\u001b[0m\u001b[0mlen\u001b[0m\u001b[0;34m(\u001b[0m\u001b[0mY\u001b[0m\u001b[0;34m)\u001b[0m\u001b[0;34m)\u001b[0m\u001b[0;34m:\u001b[0m\u001b[0;34m\u001b[0m\u001b[0m\n\u001b[1;32m     12\u001b[0m         \u001b[0mratings\u001b[0m\u001b[0;34m[\u001b[0m\u001b[0mn\u001b[0m\u001b[0;34m]\u001b[0m \u001b[0;34m=\u001b[0m \u001b[0mY\u001b[0m\u001b[0;34m[\u001b[0m\u001b[0mn\u001b[0m\u001b[0;34m]\u001b[0m\u001b[0;34m[\u001b[0m\u001b[0;36m2\u001b[0m\u001b[0;34m]\u001b[0m\u001b[0;34m\u001b[0m\u001b[0m\n",
      "\u001b[0;31mTypeError\u001b[0m: object of type 'Trainset' has no len()"
=======
   "execution_count": 11,
   "metadata": {},
   "outputs": [],
   "source": [
    "testerr = get_err(u, v, ubias, vbias, testset, reg=0.0)"
   ]
  },
  {
   "cell_type": "code",
   "execution_count": 39,
   "metadata": {},
   "outputs": [],
   "source": [
    "np.savetxt('U_shelf.txt', u)\n",
    "np.savetxt('V_shelf.txt', v)\n",
    "np.savetxt('Ubias_shelf.txt', ubias)\n",
    "np.savetxt('Vbias_shelf.txt', vbias)"
   ]
  },
  {
   "cell_type": "code",
   "execution_count": 12,
   "metadata": {},
   "outputs": [
    {
     "name": "stdout",
     "output_type": "stream",
     "text": [
      "7935.404581326087\n"
>>>>>>> 080f846bab48258080e7812e68d002d35bb4b2dc
     ]
    }
   ],
   "source": [
    "print testerr"
   ]
  },
  {
   "cell_type": "code",
<<<<<<< HEAD
   "execution_count": 10,
   "metadata": {
    "collapsed": true
   },
   "outputs": [],
=======
   "execution_count": 14,
   "metadata": {},
   "outputs": [
    {
     "name": "stdout",
     "output_type": "stream",
     "text": [
      "(943, 100) (1668, 100)\n"
     ]
    }
   ],
>>>>>>> 080f846bab48258080e7812e68d002d35bb4b2dc
   "source": [
    "print u.shape, v.shape"
   ]
  },
  {
   "cell_type": "code",
   "execution_count": 11,
   "metadata": {
    "collapsed": false
   },
   "outputs": [
    {
     "data": {
      "text/plain": [
       "(943, 100)"
      ]
     },
     "execution_count": 11,
     "metadata": {},
     "output_type": "execute_result"
    }
   ],
   "source": [
    "u.shape"
   ]
  },
  {
   "cell_type": "code",
   "execution_count": 21,
   "metadata": {
    "collapsed": false
   },
   "outputs": [
    {
     "data": {
      "text/plain": [
       "(1668, 100)"
      ]
     },
     "execution_count": 21,
     "metadata": {},
     "output_type": "execute_result"
    }
   ],
   "source": [
    "v.shape"
   ]
  },
  {
   "cell_type": "code",
   "execution_count": null,
   "metadata": {},
   "outputs": [],
   "source": []
  }
 ],
 "metadata": {
  "kernelspec": {
   "display_name": "Python 2",
   "language": "python",
   "name": "python2"
  },
  "language_info": {
   "codemirror_mode": {
    "name": "ipython",
    "version": 2
   },
   "file_extension": ".py",
   "mimetype": "text/x-python",
   "name": "python",
   "nbconvert_exporter": "python",
   "pygments_lexer": "ipython2",
   "version": "2.7.13"
  }
 },
 "nbformat": 4,
 "nbformat_minor": 2
}
