{
 "cells": [
  {
   "cell_type": "code",
   "execution_count": 11,
   "metadata": {
    "collapsed": true
   },
   "outputs": [],
   "source": [
    "import numpy as np\n",
    "import pandas as pd\n",
    "import matplotlib.pyplot as plt\n",
    "#from prob2utils_skeleton import train_model, get_err\n",
    "import surprise\n",
    "from surprise import AlgoBase\n",
    "from surprise import Reader\n",
    "from surprise import Dataset\n",
    "from surprise.model_selection import cross_validate\n",
    "from surprise import SVD\n",
    "from surprise import accuracy\n",
    "from surprise.model_selection import train_test_split"
   ]
  },
  {
   "cell_type": "code",
   "execution_count": 3,
   "metadata": {
    "collapsed": true
   },
   "outputs": [],
   "source": [
    "movies = pd.read_table('data/movies.txt', header=None, names=[\"Movie Id\", \"Movie Title\", \"Unknown\", \"Action\", \"Adventure\", \"Animation\", \"Childrens\", \"Comedy\", \"Crime\", \"Documentary\",\"Drama\", \"Fantasy\", \"Film-Noir\", \"Horror\", \"Musical\", \"Mystery\", \"Romance\", \"Sci-Fi\", \"Thriller\", \"War\", \"Western\"])\n",
    "np.save(\"movie\", movies)\n",
    "\n",
    "data = pd.read_table('data/data.txt', header=None, names=[\"user\", \"movie\", \"rating\"])\n",
    "np.save(\"data\", data)\n",
    "\n",
    "train = pd.read_table('data/train.txt',  header=None, names=[\"user\", \"movie\", \"rating\"])\n",
    "np.save(\"train\", train)\n",
    "\n",
    "test = pd.read_table('data/test.txt', header=None, names=[\"user\", \"movie\", \"rating\"])\n",
    "np.save(\"test\", test)"
   ]
  },
  {
   "cell_type": "code",
   "execution_count": 4,
   "metadata": {
    "collapsed": true
   },
   "outputs": [],
   "source": [
    "reader = Reader(rating_scale=(1, 5))\n",
    "#traindata = Dataset.load_from_df(train, reader=reader)\n",
    "#trainset = traindata.build_full_trainset()\n",
    "ydata = Dataset.load_from_df(data, reader=reader)\n",
    "fullset = ydata.build_full_trainset()"
   ]
  },
  {
   "cell_type": "code",
   "execution_count": 5,
   "metadata": {
    "collapsed": false
   },
   "outputs": [
    {
     "data": {
      "text/plain": [
       "<surprise.prediction_algorithms.matrix_factorization.SVD at 0x1186d9dd8>"
      ]
     },
     "execution_count": 5,
     "metadata": {},
     "output_type": "execute_result"
    }
   ],
   "source": [
    "filterer = SVD()\n",
    "filterer.fit(fullset)"
   ]
  },
  {
   "cell_type": "markdown",
   "metadata": {},
   "source": [
    "## Calculate training and test errors. Lambda = 0.02 ."
   ]
  },
  {
   "cell_type": "code",
   "execution_count": 7,
   "metadata": {
    "collapsed": false
   },
   "outputs": [
    {
     "name": "stdout",
     "output_type": "stream",
     "text": [
      "(943, 100) (943,) (1682, 100) (1682,)\n"
     ]
    }
   ],
   "source": [
    "u = filterer.pu\n",
    "v = filterer.qi\n",
    "ubias = filterer.bu\n",
    "vbias = filterer.bi\n",
    "print(u.shape, ubias.shape, v.shape, vbias.shape)\n",
    "#print(len(testset))"
   ]
  },
  {
   "cell_type": "code",
   "execution_count": 8,
   "metadata": {
    "collapsed": true
   },
   "outputs": [],
   "source": [
    "def get_err(U, V, BU, BV, Y, reg=0.0):\n",
    "    \"\"\"\n",
    "    Takes as input a matrix Y of triples (i, j, Y_ij) where i is the index of a user,\n",
    "    j is the index of a movie, and Y_ij is user i's rating of movie j and\n",
    "    user/movie matrices U and V.\n",
    "\n",
    "    Returns the mean regularized squared-error of predictions made by\n",
    "    estimating Y_{ij} as the dot product of the ith row of U and the jth column of V^T.\n",
    "    \"\"\"\n",
    "    ratings = np.zeros(len(Y))\n",
    "    for n in np.arange(len(Y)):\n",
    "        ratings[n] = Y[n][2]\n",
    "    mu = np.mean(ratings)\n",
    "    err = 0.0    \n",
    "    \n",
    "    err += 0.5*reg*(np.sum(U**2) + np.sum(V**2) + np.sum(BU**2) + np.sum(BV**2))\n",
    "    for n in np.arange(len(Y)):\n",
    "        i = Y[n][0] - 1 #Columns start at 1, not zero.\n",
    "        j = Y[n][1] - 1 #Columns start at 1, not zero.\n",
    "        #print(U.shape, V.shape)\n",
    "        err += 0.5*((ratings[n] - mu) - (np.dot(U[i,:],V.T[:,j]) + BU[i] + BV[j]))**2\n",
    "\n",
    "    return err"
   ]
  },
  {
   "cell_type": "code",
   "execution_count": 47,
   "metadata": {
    "collapsed": true
   },
   "outputs": [],
   "source": [
    "testerr = get_err(u, v, ubias, vbias, testset, reg=0.0)"
   ]
  },
  {
   "cell_type": "code",
   "execution_count": 48,
   "metadata": {
    "collapsed": true
   },
   "outputs": [],
   "source": [
    "np.savetxt('U_shelf.txt', u)\n",
    "np.savetxt('V_shelf.txt', v)\n",
    "np.savetxt('Ubias_shelf.txt', ubias)\n",
    "np.savetxt('Vbias_shelf.txt', vbias)"
   ]
  },
  {
   "cell_type": "code",
   "execution_count": 49,
   "metadata": {
    "collapsed": false
   },
   "outputs": [
    {
     "name": "stdout",
     "output_type": "stream",
     "text": [
      "8550.170417778732\n"
     ]
    }
   ],
   "source": [
    "print testerr"
   ]
  },
  {
   "cell_type": "code",
   "execution_count": 14,
   "metadata": {
    "collapsed": false
   },
   "outputs": [
    {
     "name": "stdout",
     "output_type": "stream",
     "text": [
      "(943, 100) (1668, 100)\n"
     ]
    }
   ],
   "source": [
    "print u.shape, v.shape"
   ]
  },
  {
   "cell_type": "code",
   "execution_count": 12,
   "metadata": {
    "collapsed": false
   },
   "outputs": [],
   "source": [
    "kf = surprise.model_selection.split.KFold()"
   ]
  },
  {
   "cell_type": "code",
   "execution_count": 16,
   "metadata": {
    "collapsed": false
   },
   "outputs": [
    {
     "name": "stdout",
     "output_type": "stream",
     "text": [
      "RMSE: 0.9433\n",
      "RMSE: 0.9323\n",
      "RMSE: 0.9340\n",
      "RMSE: 0.9402\n",
      "RMSE: 0.9319\n"
     ]
    }
   ],
   "source": [
    "valmodel = SVD()\n",
    "for trainset, testset in kf.split(ydata):\n",
    "\n",
    "    # train and test algorithm.\n",
    "    valmodel.fit(trainset)\n",
    "    predictions = valmodel.test(testset)\n",
    "\n",
    "    # Compute and print Root Mean Squared Error\n",
    "    accuracy.rmse(predictions, verbose=True)"
   ]
  },
  {
   "cell_type": "code",
   "execution_count": null,
   "metadata": {
    "collapsed": true
   },
   "outputs": [],
   "source": []
  }
 ],
 "metadata": {
  "kernelspec": {
   "display_name": "Python [conda env:anaconda]",
   "language": "python",
   "name": "conda-env-anaconda-py"
  },
  "language_info": {
   "codemirror_mode": {
    "name": "ipython",
    "version": 3
   },
   "file_extension": ".py",
   "mimetype": "text/x-python",
   "name": "python",
   "nbconvert_exporter": "python",
   "pygments_lexer": "ipython3",
   "version": "3.5.2"
  }
 },
 "nbformat": 4,
 "nbformat_minor": 2
}
