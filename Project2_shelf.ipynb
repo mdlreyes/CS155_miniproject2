{
 "cells": [
  {
   "cell_type": "code",
   "execution_count": 1,
   "metadata": {},
   "outputs": [],
   "source": [
    "import numpy as np\n",
    "import pandas as pd\n",
    "import matplotlib.pyplot as plt\n",
    "#from prob2utils_skeleton import train_model, get_err\n",
    "from surprise import AlgoBase\n",
    "from surprise import Reader\n",
    "from surprise import Dataset\n",
    "from surprise.model_selection import cross_validate\n",
    "from surprise.prediction_algorithms import matrix_factorization\n",
    "from surprise import accuracy\n",
    "from surprise.model_selection import train_test_split"
   ]
  },
  {
   "cell_type": "code",
   "execution_count": 2,
   "metadata": {},
   "outputs": [],
   "source": [
    "movies = pd.read_table('data/movies.txt',names=[\"Movie Id\", \"Movie Title\", \"Unknown\", \"Action\", \"Adventure\", \"Animation\", \"Childrens\", \"Comedy\", \"Crime\", \"Documentary\",\"Drama\", \"Fantasy\", \"Film-Noir\", \"Horror\", \"Musical\", \"Mystery\", \"Romance\", \"Sci-Fi\", \"Thriller\", \"War\", \"Western\"])\n",
    "np.save(\"movie\", movies)\n",
    "\n",
    "data = pd.read_table('data/data.txt', names=[\"user\", \"movie\", \"rating\"])\n",
    "np.save(\"data\", data)\n",
    "\n",
    "train = pd.read_table('data/train.txt',  names=[\"user\", \"movie\", \"rating\"])\n",
    "np.save(\"train\", train)\n",
    "\n",
    "test = pd.read_table('data/test.txt', names=[\"user\", \"movie\", \"rating\"])\n",
    "np.save(\"test\", test)"
   ]
  },
  {
   "cell_type": "code",
   "execution_count": 3,
   "metadata": {},
   "outputs": [],
   "source": [
    "reader = Reader(rating_scale=(1, 5))\n",
    "#trainset = Dataset.load_from_df(train, reader=reader)\n",
    "#testset = Dataset.load_from_df(test, reader=reader)\n",
    "ydata = Dataset.load_from_df(data, reader=reader)\n",
    "trainset, testset = train_test_split(ydata, test_size=0.1)"
   ]
  },
  {
   "cell_type": "code",
   "execution_count": 4,
   "metadata": {},
   "outputs": [
    {
     "data": {
      "text/plain": [
       "<surprise.prediction_algorithms.matrix_factorization.SVD at 0x10f360050>"
      ]
     },
     "execution_count": 4,
     "metadata": {},
     "output_type": "execute_result"
    }
   ],
   "source": [
    "filterer = matrix_factorization.SVD()\n",
    "filterer.fit(trainset)"
   ]
  },
  {
   "cell_type": "markdown",
   "metadata": {},
   "source": [
    "## Calculate training and test errors. Lambda = 0.02 ."
   ]
  },
  {
   "cell_type": "code",
   "execution_count": 5,
   "metadata": {},
   "outputs": [
    {
     "name": "stdout",
     "output_type": "stream",
     "text": [
      "((943, 100), (943,), (1668, 100), (1668,))\n",
      "10000\n"
     ]
    }
   ],
   "source": [
    "u = filterer.pu\n",
    "v = filterer.qi\n",
    "ubias = filterer.bu\n",
    "vbias = filterer.bi\n",
    "print(u.shape, ubias.shape, v.shape, vbias.shape)\n",
    "print(len(testset))"
   ]
  },
  {
   "cell_type": "code",
   "execution_count": 6,
   "metadata": {},
   "outputs": [],
   "source": [
    "def get_err(U, V, BU, BV, Y, reg=0.0):\n",
    "    \"\"\"\n",
    "    Takes as input a matrix Y of triples (i, j, Y_ij) where i is the index of a user,\n",
    "    j is the index of a movie, and Y_ij is user i's rating of movie j and\n",
    "    user/movie matrices U and V.\n",
    "\n",
    "    Returns the mean regularized squared-error of predictions made by\n",
    "    estimating Y_{ij} as the dot product of the ith row of U and the jth column of V^T.\n",
    "    \"\"\"\n",
    "    ratings = np.zeros(len(Y))\n",
    "    for n in np.arange(len(Y)):\n",
    "        ratings[n] = Y[n][2]\n",
    "    mu = np.mean(ratings)\n",
    "    err = 0.0    \n",
    "    \n",
    "    err += 0.5*reg*(np.sum(U**2) + np.sum(V**2) + np.sum(BU**2) + np.sum(BV**2))\n",
    "    for n in np.arange(len(Y)):\n",
    "        i = Y[n][0] - 1 #Columns start at 1, not zero.\n",
    "        j = Y[n][1] - 1 #Columns start at 1, not zero.\n",
    "        #print(U.shape, V.shape)\n",
    "        err += 0.5*((ratings[n] - mu) - (np.dot(U[i,:],V.T[:,j]) + BU[i] + BV[j]))**2\n",
    "\n",
    "    return err"
   ]
  },
  {
   "cell_type": "code",
   "execution_count": 11,
   "metadata": {},
   "outputs": [],
   "source": [
    "testerr = get_err(u, v, ubias, vbias, testset, reg=0.0)"
   ]
  },
  {
   "cell_type": "code",
   "execution_count": 32,
   "metadata": {
    "collapsed": true
   },
   "outputs": [],
   "source": [
    "np.savetxt('u_shelf.txt', u)\n",
    "np.savetxt('v_shelf.txt', v)\n",
    "np.savetxt('ubias_shelf.txt', ubias)\n",
    "np.savetxt('vbias_shelf.txt', vbias)"
   ]
  },
  {
   "cell_type": "code",
   "execution_count": 12,
   "metadata": {},
   "outputs": [
    {
     "name": "stdout",
     "output_type": "stream",
     "text": [
      "7935.404581326087\n"
     ]
    }
   ],
   "source": [
    "print testerr"
   ]
  },
  {
   "cell_type": "code",
   "execution_count": null,
   "metadata": {},
   "outputs": [],
   "source": []
  }
 ],
 "metadata": {
  "kernelspec": {
   "display_name": "Python 2",
   "language": "python",
   "name": "python2"
  },
  "language_info": {
   "codemirror_mode": {
    "name": "ipython",
    "version": 2
   },
   "file_extension": ".py",
   "mimetype": "text/x-python",
   "name": "python",
   "nbconvert_exporter": "python",
   "pygments_lexer": "ipython2",
   "version": "2.7.13"
  }
 },
 "nbformat": 4,
 "nbformat_minor": 2
}
